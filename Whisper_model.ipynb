{
  "nbformat": 4,
  "nbformat_minor": 0,
  "metadata": {
    "colab": {
      "provenance": [],
      "authorship_tag": "ABX9TyMl6Pw/opQLryvnVIeek76n",
      "include_colab_link": true
    },
    "kernelspec": {
      "name": "python3",
      "display_name": "Python 3"
    },
    "language_info": {
      "name": "python"
    }
  },
  "cells": [
    {
      "cell_type": "markdown",
      "metadata": {
        "id": "view-in-github",
        "colab_type": "text"
      },
      "source": [
        "<a href=\"https://colab.research.google.com/github/RAAKASH/Youtube_transcription/blob/main/Whisper_model.ipynb\" target=\"_parent\"><img src=\"https://colab.research.google.com/assets/colab-badge.svg\" alt=\"Open In Colab\"/></a>"
      ]
    },
    {
      "cell_type": "markdown",
      "source": [
        "**Model to transcribe youtube videos**"
      ],
      "metadata": {
        "id": "narSRUcs5Ag9"
      }
    },
    {
      "cell_type": "code",
      "source": [
        "!pip install pytube #Install dependencies"
      ],
      "metadata": {
        "id": "Ui8YkcIU5OEp"
      },
      "execution_count": null,
      "outputs": []
    },
    {
      "cell_type": "code",
      "source": [
        "url = 'https://www.youtube.com/watch?v=N0rW5QcP5gA'"
      ],
      "metadata": {
        "id": "qC965kS45Kzu"
      },
      "execution_count": null,
      "outputs": []
    },
    {
      "cell_type": "code",
      "execution_count": 1,
      "metadata": {
        "id": "xwfqzjmx00sO"
      },
      "outputs": [],
      "source": []
    },
    {
      "cell_type": "code",
      "source": [
        "from transformers import pipeline\n",
        "from pytube import YouTube\n",
        "import subprocess"
      ],
      "metadata": {
        "id": "8LvMaAlF07w_"
      },
      "execution_count": 14,
      "outputs": []
    },
    {
      "cell_type": "code",
      "source": [
        "transcribe_base = pipeline( model=\"openai/whisper-base\")\n",
        "yt = YouTube(url)\n",
        "audio_stream = yt.streams.filter(only_audio=True).first()\n",
        "temp = audio_stream.download()\n",
        "subprocess.run(['ffmpeg', '-i', temp, '-vn', '-ar', '44100', '-ac', '2', '-b:a', '192k', 'audio_stream.mp3'])"
      ],
      "metadata": {
        "colab": {
          "base_uri": "https://localhost:8080/"
        },
        "id": "BFADa98N1NEz",
        "outputId": "6dab425e-934b-4e4a-919a-e30b9f369782"
      },
      "execution_count": 13,
      "outputs": [
        {
          "output_type": "stream",
          "name": "stdout",
          "text": [
            "Requirement already satisfied: pytube in /usr/local/lib/python3.10/dist-packages (15.0.0)\n"
          ]
        },
        {
          "output_type": "execute_result",
          "data": {
            "text/plain": [
              "CompletedProcess(args=['ffmpeg', '-i', '/content/Autobahn App Market Deutsche Banks single gateway to digital services.mp4', '-vn', '-ar', '44100', '-ac', '2', '-b:a', '192k', 'audio_stream.mp3'], returncode=1)"
            ]
          },
          "metadata": {},
          "execution_count": 13
        }
      ]
    },
    {
      "cell_type": "code",
      "source": [
        "output = transcribe_base(\"audio_stream.mp3\", return_timestamps=True)"
      ],
      "metadata": {
        "colab": {
          "base_uri": "https://localhost:8080/"
        },
        "id": "fIQ7Rpa72uVG",
        "outputId": "e0ad1223-d3c7-4182-e69d-e3f7c37d726e"
      },
      "execution_count": 15,
      "outputs": [
        {
          "output_type": "stream",
          "name": "stderr",
          "text": [
            "/usr/local/lib/python3.10/dist-packages/transformers/generation/configuration_utils.py:392: UserWarning: `do_sample` is set to `False`. However, `temperature` is set to `None` -- this flag is only used in sample-based generation modes. You should set `do_sample=True` or unset `temperature`.\n",
            "  warnings.warn(\n"
          ]
        }
      ]
    },
    {
      "cell_type": "code",
      "source": [
        "print(output['text'])"
      ],
      "metadata": {
        "colab": {
          "base_uri": "https://localhost:8080/"
        },
        "id": "z8OGhxMd3ZRJ",
        "outputId": "c1825e03-2026-4d64-bf05-5cb156515a57"
      },
      "execution_count": 17,
      "outputs": [
        {
          "output_type": "stream",
          "name": "stdout",
          "text": [
            " Deutsche Bank Deutsche Bank's single gateway to digital services provides corporate and institutional clients with secure 24.7 access to a global suite of services. With over 50 transaction banking services available, the Deutsche Bank's redesigned interface provides users with one access channel, offering enhanced security and crucial information to assist clients in their decision-making process. Users also benefit from flexible customization options. Enhanced user workflow. Alerts and notifications. and so much more, all in one place. Deutsche Bank has established best practices to mitigate fraud for clients on the Autobahn Outmarket, complying with relevant regulations and market standards. In an increasingly digital and interconnected business environment, Deutsche Bank is committed to meeting the ever-evolving needs of its clients. Take the changing role of the strategic treasurer, for example. They often operate as both the cash controllers and risk managers of their organizations. Treasurers today actively partner with Deutsche Bank to monitor and control end-to-end payment flows using the Cash Manager app. Access multi-currency high-value payments instantly using the Cash Inquiry app and manage user permissions in entitlements and passwords with immediate effect by the user manager app. Clients also have access to Deutsche Bank's business productivity and market intelligence tools via the calendar and FX indicative market data apps. The first product of its kind in the financial service industry. The AutoBine App market continues to deliver innovative solutions as evidenced by the adoption of Swift's global payments innovation tracker into our existing cash inquiry hub to improve cross-border payments experience. As Deutsche Bank further drives innovation by investigating digital trends such as block chain technology, open API banking, cloud and Fintech, the AutoBine App Market will continue to connect clients around the world. For more information or to a book or demonstration, please contact your Deutsche Bank representative. Deutsche Bank you\n"
          ]
        }
      ]
    }
  ]
}